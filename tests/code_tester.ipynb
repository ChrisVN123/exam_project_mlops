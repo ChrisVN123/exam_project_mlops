{
 "cells": [
  {
   "cell_type": "markdown",
   "metadata": {},
   "source": [
    "## Getting the data online"
   ]
  },
  {
   "cell_type": "code",
   "execution_count": 2,
   "metadata": {},
   "outputs": [
    {
     "name": "stderr",
     "output_type": "stream",
     "text": [
      "/Users/christianvanellnielsen/Library/CloudStorage/OneDrive-Personligt/Documents/Christian/DTU/5. Semester/exam_project_mlops/venv/lib/python3.11/site-packages/tqdm/auto.py:21: TqdmWarning: IProgress not found. Please update jupyter and ipywidgets. See https://ipywidgets.readthedocs.io/en/stable/user_install.html\n",
      "  from .autonotebook import tqdm as notebook_tqdm\n"
     ]
    },
    {
     "name": "stdout",
     "output_type": "stream",
     "text": [
      "Downloading from https://www.kaggle.com/api/v1/datasets/download/andrewmvd/sp-500-stocks?dataset_version_number=1023...\n"
     ]
    },
    {
     "name": "stderr",
     "output_type": "stream",
     "text": [
      "100%|██████████| 18.7M/18.7M [00:01<00:00, 15.5MB/s]"
     ]
    },
    {
     "name": "stdout",
     "output_type": "stream",
     "text": [
      "Extracting files...\n"
     ]
    },
    {
     "name": "stderr",
     "output_type": "stream",
     "text": [
      "\n"
     ]
    },
    {
     "name": "stdout",
     "output_type": "stream",
     "text": [
      "Path to dataset files: /Users/christianvanellnielsen/.cache/kagglehub/datasets/andrewmvd/sp-500-stocks/versions/1023\n"
     ]
    }
   ],
   "source": [
    "import kagglehub\n",
    "\n",
    "# Download latest version\n",
    "path = kagglehub.dataset_download(\"andrewmvd/sp-500-stocks\")\n",
    "\n",
    "print(\"Path to dataset files:\", path)"
   ]
  },
  {
   "cell_type": "code",
   "execution_count": 10,
   "metadata": {},
   "outputs": [
    {
     "data": {
      "text/plain": [
       "Index(['Exchange', 'Symbol', 'Shortname', 'Longname', 'Sector', 'Industry',\n",
       "       'Currentprice', 'Marketcap', 'Ebitda', 'Revenuegrowth', 'City', 'State',\n",
       "       'Country', 'Fulltimeemployees', 'Longbusinesssummary', 'Weight'],\n",
       "      dtype='object')"
      ]
     },
     "execution_count": 10,
     "metadata": {},
     "output_type": "execute_result"
    }
   ],
   "source": [
    "import pandas\n",
    "\n",
    "data = pandas.read_csv(\"../data/raw/sp500_companies.csv\")\n",
    "data.columns"
   ]
  },
  {
   "cell_type": "markdown",
   "metadata": {},
   "source": [
    "# Making the model"
   ]
  },
  {
   "cell_type": "markdown",
   "metadata": {},
   "source": [
    "## imports"
   ]
  },
  {
   "cell_type": "code",
   "execution_count": 24,
   "metadata": {},
   "outputs": [],
   "source": [
    "import pandas as pd\n",
    "import numpy as np\n",
    "from sklearn.model_selection import train_test_split\n",
    "from sklearn.preprocessing import StandardScaler, OneHotEncoder\n",
    "from sklearn.compose import ColumnTransformer\n",
    "from sklearn.pipeline import Pipeline\n",
    "import torch\n",
    "import torch.nn as nn\n",
    "import torch.optim as optim\n",
    "from torch.utils.data import DataLoader, TensorDataset\n",
    "import matplotlib.pyplot as plt\n"
   ]
  },
  {
   "cell_type": "markdown",
   "metadata": {},
   "source": [
    "## Load data and encode"
   ]
  },
  {
   "cell_type": "code",
   "execution_count": 16,
   "metadata": {},
   "outputs": [],
   "source": [
    "# Load the dataset (replace 'your_dataset.csv' with your file path)\n",
    "data = pd.read_csv(\"../data/raw/sp500_companies.csv\")\n",
    "\n",
    "# Drop unnecessary columns\n",
    "data = data.drop(columns=['Longbusinesssummary', 'City', 'State', 'Country', 'Shortname', 'Longname'])\n",
    "\n",
    "# Handle missing values\n",
    "data = data.dropna()\n",
    "\n",
    "# Separate features and target\n",
    "X = data.drop(columns=['Sector'])\n",
    "y = data['Sector']\n",
    "\n",
    "# Encode categorical features and target\n",
    "categorical_features = ['Exchange', 'Symbol', 'Industry']\n",
    "numerical_features = ['Currentprice', 'Marketcap', 'Ebitda', 'Revenuegrowth', 'Fulltimeemployees', 'Weight']\n",
    "\n",
    "# One-hot encode categorical features\n",
    "column_transformer = ColumnTransformer([\n",
    "    ('cat', OneHotEncoder(handle_unknown='ignore'), categorical_features),\n",
    "    ('num', StandardScaler(), numerical_features)\n",
    "])\n",
    "\n",
    "X_transformed = column_transformer.fit_transform(X)\n",
    "\n",
    "# One-hot encode the target\n",
    "y_encoded = pd.get_dummies(y).values\n",
    "\n",
    "# Split data into training, validation, and test sets\n",
    "X_train, X_temp, y_train, y_temp = train_test_split(X_transformed, y_encoded, test_size=0.3, random_state=42)\n",
    "X_val, X_test, y_val, y_test = train_test_split(X_temp, y_temp, test_size=0.5, random_state=42)"
   ]
  },
  {
   "cell_type": "markdown",
   "metadata": {},
   "source": [
    "## Torch tensors and dataloader"
   ]
  },
  {
   "cell_type": "code",
   "execution_count": 18,
   "metadata": {},
   "outputs": [],
   "source": [
    "\n",
    "# Convert data to PyTorch tensors\n",
    "X_train_tensor = torch.tensor(X_train.toarray(), dtype=torch.float32)\n",
    "y_train_tensor = torch.tensor(y_train, dtype=torch.float32)\n",
    "X_val_tensor = torch.tensor(X_val.toarray(), dtype=torch.float32)\n",
    "y_val_tensor = torch.tensor(y_val, dtype=torch.float32)\n",
    "X_test_tensor = torch.tensor(X_test.toarray(), dtype=torch.float32)\n",
    "y_test_tensor = torch.tensor(y_test, dtype=torch.float32)\n",
    "\n",
    "# Create DataLoader\n",
    "def create_dataloader(X, y, batch_size):\n",
    "    dataset = TensorDataset(X, y)\n",
    "    return DataLoader(dataset, batch_size=batch_size, shuffle=True)\n",
    "\n",
    "train_loader = create_dataloader(X_train_tensor, y_train_tensor, batch_size=32)\n",
    "val_loader = create_dataloader(X_val_tensor, y_val_tensor, batch_size=32)\n",
    "test_loader = create_dataloader(X_test_tensor, y_test_tensor, batch_size=32)\n"
   ]
  },
  {
   "cell_type": "markdown",
   "metadata": {},
   "source": [
    "## The Model"
   ]
  },
  {
   "cell_type": "code",
   "execution_count": 19,
   "metadata": {},
   "outputs": [],
   "source": [
    "# Define the neural network class\n",
    "class SectorClassifier(nn.Module):\n",
    "    def __init__(self, input_size, num_classes):\n",
    "        super(SectorClassifier, self).__init__()\n",
    "        self.fc1 = nn.Linear(input_size, 128)\n",
    "        self.dropout1 = nn.Dropout(0.3)\n",
    "        self.fc2 = nn.Linear(128, 64)\n",
    "        self.dropout2 = nn.Dropout(0.3)\n",
    "        self.fc3 = nn.Linear(64, num_classes)\n",
    "\n",
    "    def forward(self, x):\n",
    "        x = torch.relu(self.fc1(x))\n",
    "        x = self.dropout1(x)\n",
    "        x = torch.relu(self.fc2(x))\n",
    "        x = self.dropout2(x)\n",
    "        x = torch.softmax(self.fc3(x), dim=1)\n",
    "        return x\n",
    "\n",
    "# Initialize the model\n",
    "input_size = X_train_tensor.shape[1]\n",
    "num_classes = y_train_tensor.shape[1]\n",
    "model = SectorClassifier(input_size, num_classes)\n",
    "\n",
    "# Define loss function and optimizer\n",
    "criterion = nn.CrossEntropyLoss()\n",
    "optimizer = optim.Adam(model.parameters(), lr=0.001)\n"
   ]
  },
  {
   "cell_type": "markdown",
   "metadata": {},
   "source": [
    "## Train and evaluate"
   ]
  },
  {
   "cell_type": "code",
   "execution_count": 26,
   "metadata": {},
   "outputs": [
    {
     "name": "stdout",
     "output_type": "stream",
     "text": [
      "Epoch 1/50, Train Loss: 1.5577, Val Loss: 1.7365\n",
      "Epoch 2/50, Train Loss: 1.5534, Val Loss: 1.7168\n",
      "Epoch 3/50, Train Loss: 1.5510, Val Loss: 1.6676\n",
      "Epoch 4/50, Train Loss: 1.5495, Val Loss: 1.7203\n",
      "Epoch 5/50, Train Loss: 1.5494, Val Loss: 1.7259\n",
      "Epoch 6/50, Train Loss: 1.5490, Val Loss: 1.6668\n",
      "Epoch 7/50, Train Loss: 1.5493, Val Loss: 1.6600\n",
      "Epoch 8/50, Train Loss: 1.5479, Val Loss: 1.7126\n",
      "Epoch 9/50, Train Loss: 1.5493, Val Loss: 1.6601\n",
      "Epoch 10/50, Train Loss: 1.5492, Val Loss: 1.6567\n",
      "Epoch 11/50, Train Loss: 1.5463, Val Loss: 1.7112\n",
      "Epoch 12/50, Train Loss: 1.5459, Val Loss: 1.6688\n",
      "Epoch 13/50, Train Loss: 1.5479, Val Loss: 1.6611\n",
      "Epoch 14/50, Train Loss: 1.5465, Val Loss: 1.6728\n",
      "Epoch 15/50, Train Loss: 1.5470, Val Loss: 1.6572\n",
      "Epoch 16/50, Train Loss: 1.5512, Val Loss: 1.7089\n",
      "Epoch 17/50, Train Loss: 1.5509, Val Loss: 1.6625\n",
      "Epoch 18/50, Train Loss: 1.5455, Val Loss: 1.6620\n",
      "Epoch 19/50, Train Loss: 1.5465, Val Loss: 1.7113\n",
      "Epoch 20/50, Train Loss: 1.5455, Val Loss: 1.6563\n",
      "Epoch 21/50, Train Loss: 1.5464, Val Loss: 1.6576\n",
      "Epoch 22/50, Train Loss: 1.5460, Val Loss: 1.7103\n",
      "Epoch 23/50, Train Loss: 1.5453, Val Loss: 1.7115\n",
      "Epoch 24/50, Train Loss: 1.5449, Val Loss: 1.6567\n",
      "Epoch 25/50, Train Loss: 1.5458, Val Loss: 1.7619\n",
      "Epoch 26/50, Train Loss: 1.5465, Val Loss: 1.7176\n",
      "Epoch 27/50, Train Loss: 1.5460, Val Loss: 1.7044\n",
      "Epoch 28/50, Train Loss: 1.5452, Val Loss: 1.6520\n",
      "Epoch 29/50, Train Loss: 1.5472, Val Loss: 1.7041\n",
      "Epoch 30/50, Train Loss: 1.5451, Val Loss: 1.6970\n",
      "Epoch 31/50, Train Loss: 1.5448, Val Loss: 1.7077\n",
      "Epoch 32/50, Train Loss: 1.5455, Val Loss: 1.7628\n",
      "Epoch 33/50, Train Loss: 1.5444, Val Loss: 1.6975\n",
      "Epoch 34/50, Train Loss: 1.5460, Val Loss: 1.7086\n",
      "Epoch 35/50, Train Loss: 1.5444, Val Loss: 1.7564\n",
      "Epoch 36/50, Train Loss: 1.5453, Val Loss: 1.6562\n",
      "Epoch 37/50, Train Loss: 1.5446, Val Loss: 1.6517\n",
      "Epoch 38/50, Train Loss: 1.5454, Val Loss: 1.6519\n",
      "Epoch 39/50, Train Loss: 1.5448, Val Loss: 1.7091\n",
      "Epoch 40/50, Train Loss: 1.5450, Val Loss: 1.6514\n",
      "Epoch 41/50, Train Loss: 1.5447, Val Loss: 1.7051\n",
      "Epoch 42/50, Train Loss: 1.5459, Val Loss: 1.6524\n",
      "Epoch 43/50, Train Loss: 1.5441, Val Loss: 1.6525\n",
      "Epoch 44/50, Train Loss: 1.5441, Val Loss: 1.7060\n",
      "Epoch 45/50, Train Loss: 1.5452, Val Loss: 1.7045\n",
      "Epoch 46/50, Train Loss: 1.5442, Val Loss: 1.7584\n",
      "Epoch 47/50, Train Loss: 1.5445, Val Loss: 1.7597\n",
      "Epoch 48/50, Train Loss: 1.5439, Val Loss: 1.6504\n",
      "Epoch 49/50, Train Loss: 1.5442, Val Loss: 1.7040\n",
      "Epoch 50/50, Train Loss: 1.5439, Val Loss: 1.6503\n",
      "Test Accuracy: 0.8857\n"
     ]
    }
   ],
   "source": [
    "# Training loop\n",
    "def train_model(model, train_loader, val_loader, criterion, optimizer, epochs):\n",
    "    train_losses = []\n",
    "    val_losses = []\n",
    "    for epoch in range(epochs):\n",
    "        model.train()\n",
    "        train_loss = 0\n",
    "        for X_batch, y_batch in train_loader:\n",
    "            optimizer.zero_grad()\n",
    "            outputs = model(X_batch)\n",
    "            loss = criterion(outputs, torch.argmax(y_batch, dim=1))\n",
    "            loss.backward()\n",
    "            optimizer.step()\n",
    "            train_loss += loss.item()\n",
    "        \n",
    "        train_losses.append(train_loss / len(train_loader))\n",
    "\n",
    "        # Validation\n",
    "        model.eval()\n",
    "        val_loss = 0\n",
    "        with torch.no_grad():\n",
    "            for X_batch, y_batch in val_loader:\n",
    "                outputs = model(X_batch)\n",
    "                loss = criterion(outputs, torch.argmax(y_batch, dim=1))\n",
    "                val_loss += loss.item()\n",
    "        val_losses.append(val_loss / len(val_loader))\n",
    "\n",
    "        print(f\"Epoch {epoch+1}/{epochs}, Train Loss: {train_losses[-1]:.4f}, Val Loss: {val_losses[-1]:.4f}\")\n",
    "\n",
    "    return train_losses, val_losses\n",
    "\n",
    "# Train the model\n",
    "train_losses, val_losses = train_model(model, train_loader, val_loader, criterion, optimizer, epochs=50)\n",
    "\n",
    "# Evaluate the model on the test set\n",
    "def evaluate_model(model, test_loader):\n",
    "    model.eval()\n",
    "    correct = 0\n",
    "    total = 0\n",
    "    with torch.no_grad():\n",
    "        for X_batch, y_batch in test_loader:\n",
    "            outputs = model(X_batch)\n",
    "            predicted = torch.argmax(outputs, dim=1)\n",
    "            actual = torch.argmax(y_batch, dim=1)\n",
    "            correct += (predicted == actual).sum().item()\n",
    "            total += y_batch.size(0)\n",
    "    print(f\"Test Accuracy: {correct / total:.4f}\")\n",
    "\n",
    "evaluate_model(model, test_loader)\n",
    "\n",
    "# Save the model\n",
    "torch.save(model.state_dict(), 'sector_classification_model.pth')"
   ]
  },
  {
   "cell_type": "code",
   "execution_count": 27,
   "metadata": {},
   "outputs": [
    {
     "data": {
      "image/png": "[encoded data removed]",
      "text/plain": [
       "<Figure size 1000x600 with 1 Axes>"
      ]
     },
     "metadata": {},
     "output_type": "display_data"
    }
   ],
   "source": [
    "# Visualize training and validation loss\n",
    "plt.figure(figsize=(10, 6))\n",
    "plt.plot(train_losses, label='Training Loss')\n",
    "plt.plot(val_losses, label='Validation Loss')\n",
    "plt.xlabel('Epochs')\n",
    "plt.ylabel('Loss')\n",
    "plt.title('Training and Validation Loss Over Epochs')\n",
    "plt.legend()\n",
    "plt.show()"
   ]
  },
  {
   "cell_type": "markdown",
   "metadata": {},
   "source": [
    "## Prediction of unseen company"
   ]
  },
  {
   "cell_type": "code",
   "execution_count": 28,
   "metadata": {},
   "outputs": [
    {
     "name": "stdout",
     "output_type": "stream",
     "text": [
      "Predicted Sector: Communication Services\n"
     ]
    }
   ],
   "source": [
    "# Function to predict the sector of a new company\n",
    "def predict_sector(model, input_data):\n",
    "    model.eval()\n",
    "    input_tensor = torch.tensor(input_data, dtype=torch.float32)\n",
    "    with torch.no_grad():\n",
    "        output = model(input_tensor)\n",
    "        predicted_index = torch.argmax(output, dim=1).item()\n",
    "    return predicted_index\n",
    "\n",
    "# Example: Predict sector for a new company with raw input\n",
    "def preprocess_new_company(raw_data):\n",
    "    # Convert raw_data to a DataFrame\n",
    "    raw_df = pd.DataFrame([raw_data], columns=['Exchange', 'Symbol', 'Industry', 'Currentprice', 'Marketcap', \n",
    "                                               'Ebitda', 'Revenuegrowth', 'Fulltimeemployees', 'Weight'])\n",
    "    # Apply transformations\n",
    "    transformed_data = column_transformer.transform(raw_df).toarray()\n",
    "    return transformed_data\n",
    "\n",
    "# Template for new company input\n",
    "new_company_raw = {\n",
    "    'Exchange': 'NASDAQ',  # Example: 'NASDAQ'\n",
    "    'Symbol': 'AAPL',      # Example: 'AAPL'\n",
    "    'Industry': 'Technology', # Example: 'Technology'\n",
    "    'Currentprice': 150.0, # Example: numerical value\n",
    "    'Marketcap': 2500000000000, # Example: numerical value\n",
    "    'Ebitda': 80000000000,  # Example: numerical value\n",
    "    'Revenuegrowth': 0.05,  # Example: numerical value\n",
    "    'Fulltimeemployees': 154000, # Example: numerical value\n",
    "    'Weight': 0.01          # Example: numerical value\n",
    "}\n",
    "\n",
    "# Preprocess the input data\n",
    "new_company_transformed = preprocess_new_company(new_company_raw)\n",
    "\n",
    "# Predict sector\n",
    "sector_index = predict_sector(model, new_company_transformed)\n",
    "sector_name = pd.get_dummies(y).columns[sector_index]\n",
    "print(f\"Predicted Sector: {sector_name}\")\n"
   ]
  },
  {
   "cell_type": "code",
   "execution_count": null,
   "metadata": {},
   "outputs": [],
   "source": []
  }
 ],
 "metadata": {
  "kernelspec": {
   "display_name": "venv",
   "language": "python",
   "name": "python3"
  },
  "language_info": {
   "codemirror_mode": {
    "name": "ipython",
    "version": 3
   },
   "file_extension": ".py",
   "mimetype": "text/x-python",
   "name": "python",
   "nbconvert_exporter": "python",
   "pygments_lexer": "ipython3",
   "version": "3.11.4"
  }
 },
 "nbformat": 4,
 "nbformat_minor": 2
}
